{
 "cells": [
  {
   "cell_type": "code",
   "execution_count": 25,
   "id": "6f5a9632",
   "metadata": {},
   "outputs": [],
   "source": [
    "import math \n",
    "import numpy as np\n",
    "import os \n",
    "import json\n",
    "import csv\n",
    "import argparse\n",
    "import matplotlib\n",
    "import matplotlib.pyplot as plt\n",
    "%matplotlib inline "
   ]
  },
  {
   "cell_type": "code",
   "execution_count": 26,
   "id": "dba07f27",
   "metadata": {},
   "outputs": [],
   "source": [
    "xg = [-0.9815606, -0.9041173, -0.7699027, -0.5873180, -0.3678315, -0.1252334,  0.1252334,  0.3678315,  0.5873180, 0.7699027, 0.9041173,  0.9815606]\n",
    "wg = [0.04717534, 0.10693933, 0.16007833, 0.20316743, 0.23349254, 0.24914705, 0.24914705, 0.23349254, 0.20316743, 0.16007833, 0.10693933, 0.04717534]\n",
    "ng = 12\n",
    "hL = 1.0\n",
    "pi = 3.141592654\n",
    "degtorad = np.pi/180\n",
    "radtodeg = 180/np.pi\n",
    "phiprime = 0\n",
    "thetaprime = 150*degtorad\n",
    "muprime = np.cos(thetaprime)\n",
    "# Discrete Ordinates \n",
    "#number of spatial nodes \n",
    "Nlayers = 100\n",
    "#convergence criterion \n",
    "Epsilon = 0.0001\n",
    "#polar angle of the sun\n",
    "theta_o = 150.0\n",
    "#azimuth angle of the sun\n",
    "phi_o = 0.0\n",
    "theta_o = theta_o*degtorad\n",
    "phi_o = phi_o*degtorad\n",
    "mu_o = np.cos(theta_o)\n",
    "#total incident flux density \n",
    "Ftot = 1.0\n",
    "#fraction of Ftot in the direct solar beam \n",
    "fdir = 0.7\n",
    "#intensity of the direct beam \n",
    "I_o = Ftot*(fdir/(abs(mu_o)))\n",
    "#intensity of diffuse sky light \n",
    "I_d = Ftot*(1-fdir)/np.pi\n",
    "#leaf area per unit ground area (LAI = 1-5?)\n",
    "#LAI = 1.0\n",
    "#thickness of spatial cells \n",
    "#DeltaL = LAI/Nlayers\n",
    "#leaf hemispherical reflectance \n",
    "#rho_Ld = 0.075\n",
    "#leaf hemispherical transmittance \n",
    "#tau_Ld = 0.035\n",
    "#soil hemispherical reflectance (R_s = 0.125 and 0)\n",
    "#R_s = 0.125\n"
   ]
  },
  {
   "cell_type": "code",
   "execution_count": 27,
   "id": "f2d33bb4",
   "metadata": {},
   "outputs": [],
   "source": [
    "def gL_planophile(thetaL):\n",
    "    planophile_pdf = (2 / np.pi) * (1 + np.cos(2 * (thetaL)))\n",
    "    return(planophile_pdf)"
   ]
  },
  {
   "cell_type": "code",
   "execution_count": 28,
   "id": "eb1061fb",
   "metadata": {},
   "outputs": [],
   "source": [
    "def G_dir(ng, xg, wg, hL, muprime, phiprime, canopy):\n",
    "    mu_tp = muprime\n",
    "    sin_tp = np.sqrt(1-(muprime*muprime))\n",
    "  \n",
    "  #define limits over theta\n",
    "    up_tL = np.pi / 2.0\n",
    "    low_tL = 0.0\n",
    "    C_tL = (up_tL-low_tL) / 2.0\n",
    "    D_tL = (up_tL+low_tL) / 2.0\n",
    "  \n",
    "  #define limits over phi \n",
    "    up_pL = 2.0 * pi\n",
    "    low_pL = 0.0\n",
    "    C_pL = (up_pL-low_pL) / 2.0\n",
    "    D_pL = (up_pL+low_pL) / 2.0\n",
    "  \n",
    "    gL = np.zeros(ng)\n",
    "  #integral over theta\n",
    "    sum_tL = 0.0\n",
    "    for i in range(ng): \n",
    "        new_ord_tL = C_tL*xg[i] + D_tL\n",
    "        mu_tL = np.cos(new_ord_tL)\n",
    "        sin_tL = np.sin(new_ord_tL)\n",
    "    \n",
    "    #get leaf normal pdf \n",
    "        gL[i] = canopy(new_ord_tL)\n",
    "    \n",
    "    #integral over phi \n",
    "        sum_pL = 0.0\n",
    "        for j in range(ng): \n",
    "            new_ord_pL = C_pL*xg[j] + D_pL\n",
    "            dotproduct = abs(mu_tL*mu_tp + sin_tL*sin_tp*np.cos(new_ord_pL-phiprime))\n",
    "            sum_pL = sum_pL + wg[j]*hL/(2.0*pi)*dotproduct\n",
    "    \n",
    "    #finish phi integral\n",
    "        sum_pL = sum_pL*C_pL\n",
    "        sum_tL = sum_tL + wg[i]*gL[i]*sum_pL\n",
    "  \n",
    "  #finish theta integral\n",
    "    sum_tL = sum_tL*C_tL\n",
    "    Gdir = sum_tL\n",
    "    return Gdir"
   ]
  },
  {
   "cell_type": "code",
   "execution_count": 29,
   "id": "2ab9ccd2",
   "metadata": {},
   "outputs": [],
   "source": [
    "#G Diff function\n",
    "def G_diff(ng, xg, wg, hL, canopy):\n",
    "    up_pp = 2*pi\n",
    "    low_pp = 0\n",
    "    C_pp = (up_pp-low_pp)/2\n",
    "    D_pp = (up_pp+low_pp)/2\n",
    "\n",
    "    gdiff_matrix = np.zeros((ng,ng))\n",
    "\n",
    "    for i in range(ng):\n",
    "        muprime = xg[i]\n",
    "        for j in range(ng):\n",
    "            phiprime = C_pp*xg[j] + D_pp\n",
    "            gdiff_matrix[j,i] = G_dir(ng,xg,wg,hL,muprime,phiprime,canopy)\n",
    "  #check for normalization\n",
    "    sum_tp = 0 \n",
    "    for i in range(7,ng):\n",
    "        sum_pp = 0\n",
    "        for j in range(ng):\n",
    "            sum_pp = sum_pp + (wg[j] * gdiff_matrix[j,i])\n",
    "        sum_pp = sum_pp*C_pp\n",
    "        sum_tp = sum_tp + (wg[i]*sum_pp)\n",
    "    sum_tp = sum_tp / (2*pi)\n",
    "  #return(sum_tp)\n",
    "    return(gdiff_matrix)"
   ]
  },
  {
   "cell_type": "code",
   "execution_count": 30,
   "id": "656f904c",
   "metadata": {},
   "outputs": [],
   "source": [
    "#Gamma_d function\n",
    "#calculate Gamma_d given a direction of photon incidence (muprime,phiprime)\n",
    "#and direction of scattered photon travel (mu,phi)\n",
    "def Gamma_d(ng,xg,wg,hL,rho_Ld,tau_Ld,muprime,phiprime,mu,phi,canopy):\n",
    "    mu_t = mu\n",
    "    mu_tp = muprime\n",
    "    sin_t = np.sqrt(1-mu*mu)\n",
    "    sin_tp = np.sqrt(1-muprime*muprime)\n",
    "    gL = np.zeros(ng)\n",
    "\n",
    "      #define limits of integration over thetaL\n",
    "    up_tL = pi/2\n",
    "    low_tL = 0\n",
    "    C_tL = (up_tL-low_tL)/2\n",
    "    D_tL = (up_tL+low_tL)/2\n",
    "\n",
    "      #define limits of integration of phiL\n",
    "    up_pL = 2*pi\n",
    "    low_pL = 0\n",
    "    C_pL = (up_pL-low_pL)/2\n",
    "    D_pL = (up_pL+low_pL)/2\n",
    "\n",
    "      #integrate over theta L \n",
    "    sum_tL = 0 \n",
    "    for i in range(ng):\n",
    "        neword_tL = (C_tL*xg[i]) + D_tL\n",
    "    \n",
    "        gL[i] = canopy(neword_tL)\n",
    "    \n",
    "        mu_tL = np.cos(neword_tL)\n",
    "        sin_tL = np.sin(neword_tL)\n",
    "    \n",
    "    #integrate over phi L \n",
    "        sum_pL = 0\n",
    "        for j in range(ng):\n",
    "            neword_pL = (C_pL*xg[j]) + D_pL\n",
    "            dotproduct1 = ((mu_tL*mu_tp) + (sin_tL*sin_tp*np.cos(neword_pL-phiprime)))\n",
    "            dotproduct2 = ((mu_tL*mu_t) + (sin_tL*sin_t*np.cos(neword_pL-phi)))\n",
    "\n",
    "            if (dotproduct1*dotproduct2) <= 0:\n",
    "                sum_pL = sum_pL + rho_Ld*wg[j]*hL/(2*pi)*abs(dotproduct1*dotproduct2)\n",
    "            else:\n",
    "                sum_pL = sum_pL + tau_Ld*wg[j]*hL/(2*pi)*abs(dotproduct1*dotproduct2)\n",
    "    #finish integral over phi L \n",
    "        sum_pL = sum_pL*C_pL\n",
    "        sum_tL = sum_tL + wg[i]*gL[i]*sum_pL\n",
    "  \n",
    "    sum_tL = sum_tL*C_tL\n",
    "    gammad = sum_tL\n",
    "  \n",
    "    return(gammad)"
   ]
  },
  {
   "cell_type": "code",
   "execution_count": 31,
   "id": "60addd8f",
   "metadata": {},
   "outputs": [],
   "source": [
    "#Gamma_d_dir function \n",
    "#(phiprime,muprime->phi,mu) where (mu,phi) are all quadrature directions\n",
    "def GAMMA_d_dir(ng,xg,wg,hL,rho_Ld,tau_Ld,muprime,phiprime,canopy):\n",
    "  #conversion to have ordinates simulate phi\n",
    "    up = 2*pi\n",
    "    low = 0\n",
    "    C1 = (up-low)/2\n",
    "    C2 = (up+low)/2\n",
    "  \n",
    "  #get Gamma_d_dir matrix direction by direction\n",
    "    d_dir_matrix = np.zeros((ng,ng))\n",
    "    for i in range(ng):\n",
    "        mu = xg[i]\n",
    "        for j in range(ng):\n",
    "            phi = (C1*xg[i]) + C2\n",
    "            d_dir_matrix[j , i] = Gamma_d(ng,xg,wg,hL,rho_Ld,tau_Ld,muprime,phiprime,mu,phi,canopy)\n",
    "    return(d_dir_matrix)\n"
   ]
  },
  {
   "cell_type": "code",
   "execution_count": 32,
   "id": "afdefa9b",
   "metadata": {},
   "outputs": [],
   "source": [
    "#Gamma_d_dif\n",
    "#(muprime,phiprime->mu,phi) where both the incident and exit directions are all quadrature directions \n",
    "def GAMMA_d_dif(ng,xg,wg,hL,rho_Ld,tau_Ld,canopy,Gdif):\n",
    "    up = 2*pi\n",
    "    low = 0 \n",
    "    C1 = (up-low)/2\n",
    "    C2 = (up+low)/2\n",
    "\n",
    "    dummy = np.zeros((ng,ng))\n",
    "    gamma_d_dif = np.zeros((ng,ng,ng,ng))\n",
    "  \n",
    "    for i in range(ng):\n",
    "        muprime = xg[i]\n",
    "        for j in range(ng):\n",
    "            phiprime = C1*xg[j] + C2\n",
    "            dummy = GAMMA_d_dir(ng,xg,wg,hL,rho_Ld,tau_Ld,muprime,phiprime,canopy)\n",
    "            check = check_gamma_d_dir(ng,xg,wg,rho_Ld,tau_Ld,Gdif[j,i],dummy)\n",
    "            for m in range(ng):\n",
    "                for n in range(ng):\n",
    "                    gamma_d_dif[j,i,n,m] = dummy[n,m]\n",
    "    #return(check)\n",
    "    return(gamma_d_dif)\n",
    "\n",
    "def check_gamma_d_dir(ng,xg,wg,rho_Ld,tau_Ld,Gdir,Gamma_d_dir):\n",
    "    up = 2*pi\n",
    "    low = 0\n",
    "    C1 = (up-low)/2\n",
    "    C2 = (up+low)/2\n",
    "  \n",
    "    sum_tp = 0\n",
    "    for i in range(ng):\n",
    "        sum_pp = 0\n",
    "        for j in range(ng):\n",
    "            sum_pp = sum_pp + wg[i]*Gamma_d_dir[j,i]\n",
    "        sum_pp = sum_pp*C1\n",
    "        sum_tp = sum_tp + wg[i]*sum_pp\n",
    "    sum_tp = sum_tp/pi\n",
    "    sum_tp = sum_tp/(Gdir*(rho_Ld+tau_Ld))\n",
    "  \n",
    "    return(sum_tp)\n"
   ]
  },
  {
   "cell_type": "code",
   "execution_count": 33,
   "id": "939c7ca6",
   "metadata": {},
   "outputs": [],
   "source": [
    "# downward uncollided direct solar radiation \n",
    "def I_o_uncol_down(DeltaL,Nlayers,Gdir,I_o,mu_o):\n",
    "    L1 = 0\n",
    "    I_o_uc_d = np.zeros(Nlayers)\n",
    "    for k in range(Nlayers):\n",
    "        L2 = k*DeltaL - (0.5*DeltaL)\n",
    "        Prob = np.exp(-(1/abs(mu_o)) * Gdir * (L2-L1))\n",
    "        I_o_uc_d[k] = I_o * Prob\n",
    "    return(I_o_uc_d)"
   ]
  },
  {
   "cell_type": "code",
   "execution_count": 34,
   "id": "9bec0bbb",
   "metadata": {},
   "outputs": [],
   "source": [
    "# upward uncollided direct solar radiation \n",
    "def I_o_uncol_up(DeltaL,Nlayers,Gdir,Gdif,I_o,mu_o,ng,xg,R_s):\n",
    "    L1 = 0\n",
    "    L2 = Nlayers*DeltaL\n",
    "  #uncollided direct solar radiation incident on the ground\n",
    "    F_o_uc_d_soil = abs(mu_o)*I_o*np.exp(-(1/abs(mu_o))*Gdir*(L2-L1))\n",
    "  #upward uncollided intensity from reflection by soil of I_o_uc_d_soil\n",
    "    I_o_uc_u_soil = (R_s/pi)*F_o_uc_d_soil \n",
    "  #upward uncollided direct solar intensity layer by layer\n",
    "    I_o_uc_u = np.zeros((Nlayers,ng,ng))\n",
    "    for i in range(ng//2,ng):\n",
    "        for j in range(ng):\n",
    "            L2 = Nlayers*DeltaL\n",
    "            for k in range(Nlayers-1,-1,-1):\n",
    "                L1 = k*DeltaL - (0.5*DeltaL)\n",
    "                Prob = np.exp(-(1/abs(xg[i]))*Gdif[j,i]*(L2-L1))\n",
    "                I_o_uc_u[k,j,i] = I_o_uc_u_soil * Prob\n",
    "\n",
    "    return(F_o_uc_d_soil, I_o_uc_u)"
   ]
  },
  {
   "cell_type": "code",
   "execution_count": 35,
   "id": "a813c9f2",
   "metadata": {},
   "outputs": [],
   "source": [
    "#downward uncollided diffuse sky radiation\n",
    "def I_d_uncol_down(DeltaL,Nlayers,Gdif,I_d,ng,xg):\n",
    "    I_d_uc_d = np.zeros((Nlayers,ng,ng))\n",
    "    for i in range(ng//2):\n",
    "        for j in range(ng):\n",
    "            L1 = 0\n",
    "            for k in range(Nlayers):\n",
    "                L2 = k*DeltaL-(0.5*DeltaL)\n",
    "                Prob = np.exp(-(1/abs(xg[i]))*Gdif[j,i]*(L2-L1))\n",
    "                I_d_uc_d[k,j,i] = I_d * Prob \n",
    "    return (I_d_uc_d)"
   ]
  },
  {
   "cell_type": "code",
   "execution_count": 36,
   "id": "6d2a8b32",
   "metadata": {},
   "outputs": [],
   "source": [
    "#upward uncollided diffuse sky radiation \n",
    "def I_d_uncol_up(DeltaL,Nlayers,Gdif,I_d,ng,xg,wg,R_s):\n",
    "  #diffuse sky flux density incident on the soil below canopy \n",
    "    I_d_uc_u = np.zeros((Nlayers,ng,ng))\n",
    "    L1 = 0\n",
    "    L2 = Nlayers*DeltaL\n",
    "    sum1 = 0\n",
    "    for i in range(ng//2):\n",
    "        upperlimit = 2*pi\n",
    "        lowerlimit = 0\n",
    "        conv = (upperlimit-lowerlimit)/2\n",
    "        sum2 = 0\n",
    "        for j in range(ng):\n",
    "            Prob = np.exp(-(1/abs(xg[i]))*Gdif[j,i]*(L2-L1))\n",
    "            I_d_uc_d_soil = I_d * Prob\n",
    "            sum2 = sum2 + wg[j]*I_d_uc_d_soil\n",
    "        sum1 = sum1 + wg[i]*abs(xg[i])*sum2*conv\n",
    "    F_d_uc_d_soil = sum1\n",
    "  #upward uncollided intensity due to reflection from soil\n",
    "    I_d_uc_u_soil = F_d_uc_d_soil*(R_s/pi)\n",
    "  #downward uncollided diffuse sky intensity \n",
    "    for i in range(ng//2,ng):\n",
    "        for j in range(ng):\n",
    "            L2 = Nlayers*DeltaL\n",
    "            for k in range(Nlayers-1,-1,-1):\n",
    "                L1 = k*DeltaL-(0.5*DeltaL)\n",
    "                Prob = np.exp(-(1/abs(xg[i]))*Gdif[j,i]*(L2-L1))\n",
    "                I_d_uc_u[k,j,i] = I_d_uc_u_soil * Prob\n",
    "    return(F_d_uc_d_soil, I_d_uc_u)"
   ]
  },
  {
   "cell_type": "code",
   "execution_count": 37,
   "id": "03e9e87c",
   "metadata": {},
   "outputs": [],
   "source": [
    "#first-collision source Q\n",
    "def fcs(Nlayers,ng,xg,wg,Gamma_d_dir,Gamma_d_dif,I_o_uc_d,I_o_uc_u,I_d_uc_d,I_d_uc_u):\n",
    "    Q = np.zeros((Nlayers,ng,ng))\n",
    "  #first collision source due to I_o_uc_d\n",
    "    for i in range(ng):\n",
    "        for j in range(ng):\n",
    "            for k in range(Nlayers):\n",
    "                Q[k,j,i] = (1/pi)*Gamma_d_dir[j,i]*I_o_uc_d[k]\n",
    "  #first collision source due to I_o_uc_u, I_d_uc_d, I_d_uc_u\n",
    "    for i in range(ng):\n",
    "        for j in range(ng):\n",
    "            for k in range(Nlayers):\n",
    "                upperlimit1 = 1\n",
    "                lowerlimit1 = -1\n",
    "                conv11 = (upperlimit1-lowerlimit1)/2\n",
    "                sum1 = 0\n",
    "                for n in range(ng):\n",
    "                    upperlimit2 = 2*pi\n",
    "                    lowerlimit2 = 0\n",
    "                    conv21 = (upperlimit2-lowerlimit2)/2\n",
    "                    sum2 = 0\n",
    "                    for m in range(ng):\n",
    "                        sum2 = sum2 + wg[m]*(1/pi)*Gamma_d_dif[m,n,j,i]*(I_o_uc_u[k,m,n]+I_d_uc_d[k,m,n]+I_d_uc_u[k,m,n])\n",
    "                    sum1 = sum1 + wg[n]*sum2*conv21\n",
    "                Q[k,j,i] = Q[k,j,i] + sum1*conv11\n",
    "    return(Q)"
   ]
  },
  {
   "cell_type": "code",
   "execution_count": 38,
   "id": "a85dd000",
   "metadata": {},
   "outputs": [],
   "source": [
    "#sweep downward in the phase-space mesh and handle bottom boundary condition\n",
    "def sweep_down(Nlayers,ng,xg,wg,Gdif,DeltaL,JJ,R_s):\n",
    "    Ic = np.zeros((Nlayers+1,ng,ng))\n",
    "  #sweep downwards\n",
    "    for i in range(ng//2):\n",
    "        for j in range(ng):\n",
    "            fij = (xg[i]/DeltaL) - (0.5*Gdif[j,i])\n",
    "            aij = ((0.5*Gdif[j,i]) + (xg[i]/DeltaL)) / fij\n",
    "            bij = 1/fij\n",
    "            for k in range(Nlayers):\n",
    "                Ic[k+1,j,i] = aij*Ic[k,j,i] - bij*JJ[k,j,i]\n",
    "  #flux density incident on the ground\n",
    "    sum1 = 0\n",
    "    for i in range(ng//2):\n",
    "        upperlimit = 2*pi\n",
    "        lowerlimit = 0\n",
    "        conv = (upperlimit-lowerlimit)/2\n",
    "        sum2 = 0\n",
    "        for j in range(ng):\n",
    "            sum2 = sum2 + wg[j]*Ic[Nlayers,j,i]\n",
    "        sum1 = sum1 + wg[i]*abs(xg[i])*sum2*conv\n",
    "    Fc_soil = sum1\n",
    "  #Ic upward at the ground\n",
    "    for i in range(ng//2,ng):\n",
    "        for j in range(ng):\n",
    "            for k in range(Nlayers):\n",
    "                Ic[k+1,j,i] = (Fc_soil*R_s)/pi\n",
    "    return(Ic)"
   ]
  },
  {
   "cell_type": "code",
   "execution_count": 39,
   "id": "788fa1c3",
   "metadata": {},
   "outputs": [],
   "source": [
    "#sweep upwards in the phase-space mesh and check for convergence\n",
    "def sweep_up(Nlayers,ng,xg,wg,Gdif,DeltaL,JJ,Ic,Epsilon):\n",
    "    #Ic_old = np.zeros((ng,ng))\n",
    "    #for i in range((ng/2+1),ng): \n",
    "        #for j in range(ng): \n",
    "            #Ic_old[j,i] = Ic[1,j,i]\n",
    "  #sweep upwards\n",
    "    for i in range(ng//2,ng):\n",
    "        for j in range(ng):\n",
    "            fij = ((xg[i]/DeltaL)+(0.5*Gdif[j,i]))\n",
    "            cij = ((xg[i]/DeltaL)-(0.5*Gdif[j,i])) / fij\n",
    "            dij = 1/fij\n",
    "            for k in range(Nlayers-1,-1,-1):\n",
    "                Ic[k,j,i] = cij*Ic[k+1,j,i] + dij*JJ[k,j,i]\n",
    "                \n",
    "    #check convergence \n",
    "    #convergence = True\n",
    "    #for i in range(ng//2,ng):\n",
    "        #for j in range(ng):\n",
    "            #if abs(Ic[1,j,i] - Ic_old[j,i]) > Epsilon:\n",
    "                #convergence = False\n",
    "                #return convergence\n",
    "    return (Ic)"
   ]
  },
  {
   "cell_type": "code",
   "execution_count": 40,
   "id": "65fa15f7",
   "metadata": {},
   "outputs": [],
   "source": [
    "def multi_coli_s(Nlayers,ng,xg,wg,Gamma_d_dif,Ic):\n",
    "    S = np.zeros((Nlayers,ng,ng))\n",
    "    for i in range(ng):\n",
    "        for j in range(ng):\n",
    "            for k in range(Nlayers):\n",
    "                upperlimit1 = 1\n",
    "                lowerlimit1 = -1\n",
    "                conv11 = (upperlimit1-lowerlimit1)/2\n",
    "                sum1 = 0\n",
    "                for n in range(ng):\n",
    "                    upperlimit2 = 2*pi\n",
    "                    lowerlimit2 = 0\n",
    "                    conv21 = (upperlimit2-lowerlimit2)/2\n",
    "                    sum2 = 0\n",
    "                    for m in range(ng):\n",
    "                        Ic_cell_center = 0.5*(Ic[k,m,n]+Ic[k+1,m,n])\n",
    "                        sum2 = sum2 + wg[m]*(1/pi)*Gamma_d_dif[m,n,j,i]*Ic_cell_center\n",
    "                    sum1 = sum1 + wg[n]*sum2*conv21\n",
    "                S[k,j,i] = sum1*conv11\n",
    "    return(S)"
   ]
  },
  {
   "cell_type": "code",
   "execution_count": 41,
   "id": "38a7053c",
   "metadata": {},
   "outputs": [],
   "source": [
    "def energy_bal(Nlayers, ng, xg, wg, mu_o, Q, S, DeltaL, R_s,\n",
    "              rho_Ld, tau_Ld, Gdir, Gdif, F_o_uc_d_soil, F_d_uc_d_soil,\n",
    "              I_o_uc_d, I_d_uc_d, I_o_uc_u, I_d_uc_u, Ic):\n",
    "    \n",
    "    upperlimit = 2*pi\n",
    "    lowerlimit = 0\n",
    "    conv = (upperlimit-lowerlimit)/2\n",
    "    \n",
    "    #uncollided hemispherical transmittance\n",
    "    HT_uc = F_o_uc_d_soil + F_d_uc_d_soil\n",
    "    \n",
    "    #collided hemispherical transmittance \n",
    "    sum1 = 0\n",
    "    for i in range(ng//2):\n",
    "        sum2 = 0\n",
    "        for j in range(ng):\n",
    "            sum2 = sum2 + wg[j]*Ic[Nlayers,j,i]\n",
    "        sum1 = sum1+wg[i]*abs(xg[i])*sum2*conv\n",
    "    HT_c = sum1\n",
    "    \n",
    "    #uncollided hemispherical reflectance\n",
    "    L1 = 0\n",
    "    L2 = Nlayers*DeltaL\n",
    "    sum1 = 0\n",
    "    for i in range(ng//2,ng):\n",
    "        sum2 = 0\n",
    "        for j in range(ng):\n",
    "            Prob = np.exp(-(1/abs(xg[i])) * Gdif[j,i] * (L2-L1))\n",
    "            I_uc_u = ((F_o_uc_d_soil + F_d_uc_d_soil)*R_s/pi)*Prob\n",
    "            sum2 = sum2 + wg[j]*I_uc_u\n",
    "        sum1 = sum1 + wg[i]*abs(xg[i])*sum2*conv\n",
    "    HR_uc = sum1 \n",
    "    \n",
    "    #collided hemispherical reflectance\n",
    "    sum1 = 0\n",
    "    for i in range(ng//2,ng):\n",
    "        sum2 = 0\n",
    "        for j in range(ng):\n",
    "            sum2 = sum2 + wg[j]*Ic[1,j,i]\n",
    "        sum1 = sum1 + wg[i]*abs(xg[i])*sum2*conv\n",
    "    HR_c = sum1\n",
    "    \n",
    "    #canopy absorption from I_o_uc_d\n",
    "    sum1 = 0\n",
    "    for k in range(Nlayers):\n",
    "        sum1 = sum1+I_o_uc_d[k]*Gdir\n",
    "    AB_o_uc_d = sum1*(1-(rho_Ld + tau_Ld))*DeltaL\n",
    "    \n",
    "    #canopy absorption from I_o_uc_u\n",
    "    sum1 = 0\n",
    "    for k in range(Nlayers):\n",
    "        for i in range(ng//2,ng):\n",
    "            sum2 = 0\n",
    "            for j in range(ng):\n",
    "                sum2 = sum2+wg[j]*I_o_uc_u[k,j,i]*Gdif[j,i]\n",
    "            sum1 = sum1+wg[i]*sum2*conv\n",
    "    AB_o_uc_u = sum1*(1-(rho_Ld+tau_Ld))*DeltaL\n",
    "    \n",
    "    #canopy absorption from I_d_uc_d\n",
    "    sum1 = 0\n",
    "    for k in range(Nlayers):\n",
    "        for i in range(ng//2):\n",
    "            sum2 = 0\n",
    "            for j in range(ng):\n",
    "                sum2 = sum2 + wg[j]*I_d_uc_d[k,j,i]*Gdif[j,i]\n",
    "            sum1 = sum1 + wg[i]*sum2*conv\n",
    "    AB_d_uc_d = sum1*(1-(rho_Ld+tau_Ld))*DeltaL\n",
    "    \n",
    "    #canopy absorption from I_d_uc_u\n",
    "    sum1 = 0 \n",
    "    for k in range(Nlayers):\n",
    "        for i in range(ng//2):\n",
    "            sum2 = 0\n",
    "            for j in range(ng):\n",
    "                sum2 = sum2 + wg[j]*I_d_uc_u[k,j,i]*Gdif[j,i]\n",
    "            sum1 = sum1 + wg[i]*sum2*conv\n",
    "    AB_d_uc_u = sum1*(1-(rho_Ld+tau_Ld))*DeltaL\n",
    "    \n",
    "    #canopy absorption from I_c\n",
    "    sum1 = 0\n",
    "    for k in range(Nlayers):\n",
    "        for i in range(ng):\n",
    "            sum2 = 0\n",
    "            for j in range(ng):\n",
    "                sum2 = sum2 + wg[j]*Ic[k,j,i]*Gdif[j,i]\n",
    "            sum1 = sum1 + wg[i]*sum2*conv\n",
    "    AB_c = sum1*(1-(rho_Ld+tau_Ld))*DeltaL\n",
    "    AB_uc = AB_o_uc_d + AB_o_uc_u + AB_d_uc_d + AB_d_uc_u\n",
    "    \n",
    "    return HT_uc, HT_c, HR_uc, HR_c, AB_uc, AB_c"
   ]
  },
  {
   "cell_type": "code",
   "execution_count": 42,
   "id": "e4d91162",
   "metadata": {},
   "outputs": [],
   "source": [
    "def HDRF(Ic, Ica):\n",
    "    plane_a = np.zeros((ng,ng,3))\n",
    "    for i in range(ng//2,ng):\n",
    "        theta_v = np.arccos(xg[i]) * 180/np.pi\n",
    "        for j in range(0,ng):\n",
    "            phi_v = xg[j]*np.pi + np.pi\n",
    "            phi_v = phi_v * 180/np.pi\n",
    "            RF = Ic[0,j,i] * np.pi\n",
    "            plane_a[i,j] = (-theta_v, phi_v, RF)\n",
    "    plane_a = plane_a[6:11,:]\n",
    "    \n",
    "    plane_b = np.zeros((ng,ng,3))\n",
    "    for i in range(ng//2,ng):\n",
    "        theta_v = np.arccos(xg[i]) * 180/np.pi\n",
    "        for j in range(0,ng):\n",
    "            phi_v = xg[j]*np.pi + np.pi\n",
    "            phi_v = phi_v * 180/np.pi \n",
    "            RF = Ica[0,j,i] * np.pi\n",
    "            plane_b[-i,j] = (theta_v, phi_v, RF)\n",
    "    plane_b = plane_b[1:7,:]\n",
    "    \n",
    "    result = np.concatenate((plane_a, plane_b))\n",
    "    return result "
   ]
  },
  {
   "cell_type": "code",
   "execution_count": 43,
   "id": "2c8e16bf",
   "metadata": {},
   "outputs": [],
   "source": [
    "#leaf area per unit ground area (LAI = 1-5?)\n",
    "#LAI = 5.0\n",
    "#thickness of spatial cells \n",
    "#DeltaL = LAI/Nlayers\n",
    "#leaf hemispherical reflectance \n",
    "rho_Ld = 0.075\n",
    "#leaf hemispherical transmittance \n",
    "tau_Ld = 0.035\n",
    "#soil hemispherical reflectance (R_s = 0 for black soil)\n",
    "R_s = 0.125"
   ]
  },
  {
   "cell_type": "code",
   "execution_count": null,
   "id": "0d6e557e",
   "metadata": {},
   "outputs": [],
   "source": []
  },
  {
   "cell_type": "code",
   "execution_count": null,
   "id": "6f7acef9",
   "metadata": {},
   "outputs": [],
   "source": [
    "HT_uc = np.zeros(ng)\n",
    "HT_c = np.zeros(ng)\n",
    "HR_uc = np.zeros(ng)\n",
    "HR_c = np.zeros(ng)\n",
    "AB_uc = np.zeros(ng)\n",
    "AB_c = np.zeros(ng)\n",
    "Q = np.zeros((Nlayers,ng,ng))\n",
    "S = np.zeros((Nlayers,ng,ng))\n",
    "Ic = np.zeros((Nlayers+1,ng,ng))\n",
    "LAI = 3\n",
    "DeltaL = LAI/Nlayers\n",
    "R_s = 0.2\n",
    "rho_Ld = .475\n",
    "tau_Ld = .45\n",
    "theta = np.arange(0,90,7.5)\n",
    "\n",
    "for idx in range(0,ng,1):\n",
    "    theta_idx = theta[idx]\n",
    "    #polar angle of the sun\n",
    "    theta_o = theta_idx\n",
    "    theta_o = theta_o*degtorad\n",
    "    mu_o = np.cos(theta_o)\n",
    "    I_o = Ftot*(fdir/(abs(mu_o)))\n",
    "\n",
    "    Gdir = G_dir(ng, xg, wg, hL, mu_o, phi_o, gL_planophile)\n",
    "    Gdif = G_diff(ng, xg, wg, hL, gL_planophile)\n",
    "\n",
    "    gamma_d_dir = GAMMA_d_dir(ng,xg,wg,hL,rho_Ld,tau_Ld,mu_o,phi_o,gL_planophile)\n",
    "    gamma_d_dif = GAMMA_d_dif(ng,xg,wg,hL,rho_Ld,tau_Ld,gL_planophile,Gdif)\n",
    "\n",
    "    I_o_uc_d = I_o_uncol_down(DeltaL,Nlayers,Gdir,I_o,mu_o)\n",
    "    I_d_uc_d = I_d_uncol_down(DeltaL,Nlayers,Gdif,I_d,ng,xg)\n",
    "    F_o_uc_d_soil, I_o_uc_u = I_o_uncol_up(DeltaL,Nlayers,Gdir,Gdif,I_o,mu_o,ng,xg,R_s)\n",
    "    F_d_uc_d_soil, I_d_uc_u = I_d_uncol_up(DeltaL,Nlayers,Gdif,I_d,ng,xg,wg,R_s)\n",
    "    Q = fcs(Nlayers,ng,xg,wg,gamma_d_dir,gamma_d_dif,I_o_uc_d,I_o_uc_u,I_d_uc_d,I_d_uc_u)\n",
    "\n",
    "    ims = 0\n",
    "    while ims <= 20:\n",
    "        for i in range(0,ng):\n",
    "            for j in range(0,ng):\n",
    "                for k in range(0,Nlayers):\n",
    "                    S[k,j,i] = Q[k,j,i] + S[k,j,i]\n",
    "        Ic = sweep_down(Nlayers,ng,xg,wg,Gdif,DeltaL,S,R_s)\n",
    "        Ic = sweep_up(Nlayers,ng,xg,wg,Gdif,DeltaL,S,Ic,Epsilon)\n",
    "        S = multi_coli_s(Nlayers,ng,xg,wg,gamma_d_dif,Ic)\n",
    "        ims += 1\n",
    "    HT_uc[idx],HT_c[idx],HR_uc[idx],HR_c[idx],AB_uc[idx],AB_c[idx] = energy_bal(Nlayers, ng, xg, wg, mu_o, Q, S, DeltaL, R_s,\n",
    "                                                  rho_Ld, tau_Ld, Gdir, Gdif, F_o_uc_d_soil, F_d_uc_d_soil,\n",
    "                                                  I_o_uc_d, I_d_uc_d, I_o_uc_u, I_d_uc_u, Ic)"
   ]
  },
  {
   "cell_type": "code",
   "execution_count": null,
   "id": "72241a75",
   "metadata": {},
   "outputs": [],
   "source": [
    "HT_nir_solar = HT_uc + HT_c\n",
    "HR_nir_solar = HR_uc + HR_c\n",
    "AB_nir_solar = AB_uc + AB_c"
   ]
  },
  {
   "cell_type": "code",
   "execution_count": null,
   "id": "fb84fb1a",
   "metadata": {},
   "outputs": [],
   "source": [
    "HT_red_solar = HT_uc + HT_c\n",
    "HR_red_solar = HR_uc + HR_c\n",
    "AB_red_solar = AB_uc + AB_c"
   ]
  },
  {
   "cell_type": "code",
   "execution_count": 57,
   "id": "42b07152",
   "metadata": {},
   "outputs": [
    {
     "ename": "ValueError",
     "evalue": "x and y must have same first dimension, but have shapes (12,) and (1,)",
     "output_type": "error",
     "traceback": [
      "\u001b[0;31m---------------------------------------------------------------------------\u001b[0m",
      "\u001b[0;31mValueError\u001b[0m                                Traceback (most recent call last)",
      "\u001b[0;32m/var/folders/44/jn2ldvhx7h135938lbghd0340000gn/T/ipykernel_6443/2855546599.py\u001b[0m in \u001b[0;36m<module>\u001b[0;34m\u001b[0m\n\u001b[1;32m      1\u001b[0m \u001b[0mx\u001b[0m \u001b[0;34m=\u001b[0m \u001b[0mnp\u001b[0m\u001b[0;34m.\u001b[0m\u001b[0marange\u001b[0m\u001b[0;34m(\u001b[0m\u001b[0;36m0\u001b[0m\u001b[0;34m,\u001b[0m\u001b[0;36m90\u001b[0m\u001b[0;34m,\u001b[0m\u001b[0;36m7.5\u001b[0m\u001b[0;34m)\u001b[0m\u001b[0;34m\u001b[0m\u001b[0;34m\u001b[0m\u001b[0m\n\u001b[0;32m----> 2\u001b[0;31m \u001b[0mplt\u001b[0m\u001b[0;34m.\u001b[0m\u001b[0mplot\u001b[0m\u001b[0;34m(\u001b[0m\u001b[0mx\u001b[0m\u001b[0;34m,\u001b[0m\u001b[0mHR_nir_solar\u001b[0m\u001b[0;34m)\u001b[0m\u001b[0;34m\u001b[0m\u001b[0;34m\u001b[0m\u001b[0m\n\u001b[0m",
      "\u001b[0;32m~/opt/anaconda3/lib/python3.9/site-packages/matplotlib/pyplot.py\u001b[0m in \u001b[0;36mplot\u001b[0;34m(scalex, scaley, data, *args, **kwargs)\u001b[0m\n\u001b[1;32m   3017\u001b[0m \u001b[0;34m@\u001b[0m\u001b[0m_copy_docstring_and_deprecators\u001b[0m\u001b[0;34m(\u001b[0m\u001b[0mAxes\u001b[0m\u001b[0;34m.\u001b[0m\u001b[0mplot\u001b[0m\u001b[0;34m)\u001b[0m\u001b[0;34m\u001b[0m\u001b[0;34m\u001b[0m\u001b[0m\n\u001b[1;32m   3018\u001b[0m \u001b[0;32mdef\u001b[0m \u001b[0mplot\u001b[0m\u001b[0;34m(\u001b[0m\u001b[0;34m*\u001b[0m\u001b[0margs\u001b[0m\u001b[0;34m,\u001b[0m \u001b[0mscalex\u001b[0m\u001b[0;34m=\u001b[0m\u001b[0;32mTrue\u001b[0m\u001b[0;34m,\u001b[0m \u001b[0mscaley\u001b[0m\u001b[0;34m=\u001b[0m\u001b[0;32mTrue\u001b[0m\u001b[0;34m,\u001b[0m \u001b[0mdata\u001b[0m\u001b[0;34m=\u001b[0m\u001b[0;32mNone\u001b[0m\u001b[0;34m,\u001b[0m \u001b[0;34m**\u001b[0m\u001b[0mkwargs\u001b[0m\u001b[0;34m)\u001b[0m\u001b[0;34m:\u001b[0m\u001b[0;34m\u001b[0m\u001b[0;34m\u001b[0m\u001b[0m\n\u001b[0;32m-> 3019\u001b[0;31m     return gca().plot(\n\u001b[0m\u001b[1;32m   3020\u001b[0m         \u001b[0;34m*\u001b[0m\u001b[0margs\u001b[0m\u001b[0;34m,\u001b[0m \u001b[0mscalex\u001b[0m\u001b[0;34m=\u001b[0m\u001b[0mscalex\u001b[0m\u001b[0;34m,\u001b[0m \u001b[0mscaley\u001b[0m\u001b[0;34m=\u001b[0m\u001b[0mscaley\u001b[0m\u001b[0;34m,\u001b[0m\u001b[0;34m\u001b[0m\u001b[0;34m\u001b[0m\u001b[0m\n\u001b[1;32m   3021\u001b[0m         **({\"data\": data} if data is not None else {}), **kwargs)\n",
      "\u001b[0;32m~/opt/anaconda3/lib/python3.9/site-packages/matplotlib/axes/_axes.py\u001b[0m in \u001b[0;36mplot\u001b[0;34m(self, scalex, scaley, data, *args, **kwargs)\u001b[0m\n\u001b[1;32m   1603\u001b[0m         \"\"\"\n\u001b[1;32m   1604\u001b[0m         \u001b[0mkwargs\u001b[0m \u001b[0;34m=\u001b[0m \u001b[0mcbook\u001b[0m\u001b[0;34m.\u001b[0m\u001b[0mnormalize_kwargs\u001b[0m\u001b[0;34m(\u001b[0m\u001b[0mkwargs\u001b[0m\u001b[0;34m,\u001b[0m \u001b[0mmlines\u001b[0m\u001b[0;34m.\u001b[0m\u001b[0mLine2D\u001b[0m\u001b[0;34m)\u001b[0m\u001b[0;34m\u001b[0m\u001b[0;34m\u001b[0m\u001b[0m\n\u001b[0;32m-> 1605\u001b[0;31m         \u001b[0mlines\u001b[0m \u001b[0;34m=\u001b[0m \u001b[0;34m[\u001b[0m\u001b[0;34m*\u001b[0m\u001b[0mself\u001b[0m\u001b[0;34m.\u001b[0m\u001b[0m_get_lines\u001b[0m\u001b[0;34m(\u001b[0m\u001b[0;34m*\u001b[0m\u001b[0margs\u001b[0m\u001b[0;34m,\u001b[0m \u001b[0mdata\u001b[0m\u001b[0;34m=\u001b[0m\u001b[0mdata\u001b[0m\u001b[0;34m,\u001b[0m \u001b[0;34m**\u001b[0m\u001b[0mkwargs\u001b[0m\u001b[0;34m)\u001b[0m\u001b[0;34m]\u001b[0m\u001b[0;34m\u001b[0m\u001b[0;34m\u001b[0m\u001b[0m\n\u001b[0m\u001b[1;32m   1606\u001b[0m         \u001b[0;32mfor\u001b[0m \u001b[0mline\u001b[0m \u001b[0;32min\u001b[0m \u001b[0mlines\u001b[0m\u001b[0;34m:\u001b[0m\u001b[0;34m\u001b[0m\u001b[0;34m\u001b[0m\u001b[0m\n\u001b[1;32m   1607\u001b[0m             \u001b[0mself\u001b[0m\u001b[0;34m.\u001b[0m\u001b[0madd_line\u001b[0m\u001b[0;34m(\u001b[0m\u001b[0mline\u001b[0m\u001b[0;34m)\u001b[0m\u001b[0;34m\u001b[0m\u001b[0;34m\u001b[0m\u001b[0m\n",
      "\u001b[0;32m~/opt/anaconda3/lib/python3.9/site-packages/matplotlib/axes/_base.py\u001b[0m in \u001b[0;36m__call__\u001b[0;34m(self, data, *args, **kwargs)\u001b[0m\n\u001b[1;32m    313\u001b[0m                 \u001b[0mthis\u001b[0m \u001b[0;34m+=\u001b[0m \u001b[0margs\u001b[0m\u001b[0;34m[\u001b[0m\u001b[0;36m0\u001b[0m\u001b[0;34m]\u001b[0m\u001b[0;34m,\u001b[0m\u001b[0;34m\u001b[0m\u001b[0;34m\u001b[0m\u001b[0m\n\u001b[1;32m    314\u001b[0m                 \u001b[0margs\u001b[0m \u001b[0;34m=\u001b[0m \u001b[0margs\u001b[0m\u001b[0;34m[\u001b[0m\u001b[0;36m1\u001b[0m\u001b[0;34m:\u001b[0m\u001b[0;34m]\u001b[0m\u001b[0;34m\u001b[0m\u001b[0;34m\u001b[0m\u001b[0m\n\u001b[0;32m--> 315\u001b[0;31m             \u001b[0;32myield\u001b[0m \u001b[0;32mfrom\u001b[0m \u001b[0mself\u001b[0m\u001b[0;34m.\u001b[0m\u001b[0m_plot_args\u001b[0m\u001b[0;34m(\u001b[0m\u001b[0mthis\u001b[0m\u001b[0;34m,\u001b[0m \u001b[0mkwargs\u001b[0m\u001b[0;34m)\u001b[0m\u001b[0;34m\u001b[0m\u001b[0;34m\u001b[0m\u001b[0m\n\u001b[0m\u001b[1;32m    316\u001b[0m \u001b[0;34m\u001b[0m\u001b[0m\n\u001b[1;32m    317\u001b[0m     \u001b[0;32mdef\u001b[0m \u001b[0mget_next_color\u001b[0m\u001b[0;34m(\u001b[0m\u001b[0mself\u001b[0m\u001b[0;34m)\u001b[0m\u001b[0;34m:\u001b[0m\u001b[0;34m\u001b[0m\u001b[0;34m\u001b[0m\u001b[0m\n",
      "\u001b[0;32m~/opt/anaconda3/lib/python3.9/site-packages/matplotlib/axes/_base.py\u001b[0m in \u001b[0;36m_plot_args\u001b[0;34m(self, tup, kwargs, return_kwargs)\u001b[0m\n\u001b[1;32m    499\u001b[0m \u001b[0;34m\u001b[0m\u001b[0m\n\u001b[1;32m    500\u001b[0m         \u001b[0;32mif\u001b[0m \u001b[0mx\u001b[0m\u001b[0;34m.\u001b[0m\u001b[0mshape\u001b[0m\u001b[0;34m[\u001b[0m\u001b[0;36m0\u001b[0m\u001b[0;34m]\u001b[0m \u001b[0;34m!=\u001b[0m \u001b[0my\u001b[0m\u001b[0;34m.\u001b[0m\u001b[0mshape\u001b[0m\u001b[0;34m[\u001b[0m\u001b[0;36m0\u001b[0m\u001b[0;34m]\u001b[0m\u001b[0;34m:\u001b[0m\u001b[0;34m\u001b[0m\u001b[0;34m\u001b[0m\u001b[0m\n\u001b[0;32m--> 501\u001b[0;31m             raise ValueError(f\"x and y must have same first dimension, but \"\n\u001b[0m\u001b[1;32m    502\u001b[0m                              f\"have shapes {x.shape} and {y.shape}\")\n\u001b[1;32m    503\u001b[0m         \u001b[0;32mif\u001b[0m \u001b[0mx\u001b[0m\u001b[0;34m.\u001b[0m\u001b[0mndim\u001b[0m \u001b[0;34m>\u001b[0m \u001b[0;36m2\u001b[0m \u001b[0;32mor\u001b[0m \u001b[0my\u001b[0m\u001b[0;34m.\u001b[0m\u001b[0mndim\u001b[0m \u001b[0;34m>\u001b[0m \u001b[0;36m2\u001b[0m\u001b[0;34m:\u001b[0m\u001b[0;34m\u001b[0m\u001b[0;34m\u001b[0m\u001b[0m\n",
      "\u001b[0;31mValueError\u001b[0m: x and y must have same first dimension, but have shapes (12,) and (1,)"
     ]
    },
    {
     "data": {
      "image/png": "[encoded data removed]",
      "text/plain": [
       "<Figure size 432x288 with 1 Axes>"
      ]
     },
     "metadata": {
      "needs_background": "light"
     },
     "output_type": "display_data"
    }
   ],
   "source": [
    "x = np.arange(0,90,7.5)\n",
    "plt.plot(x,HR_nir_solar)"
   ]
  },
  {
   "cell_type": "code",
   "execution_count": 55,
   "id": "2f6a73eb",
   "metadata": {},
   "outputs": [
    {
     "ename": "NameError",
     "evalue": "name 'HR_nir_solar1' is not defined",
     "output_type": "error",
     "traceback": [
      "\u001b[0;31m---------------------------------------------------------------------------\u001b[0m",
      "\u001b[0;31mNameError\u001b[0m                                 Traceback (most recent call last)",
      "\u001b[0;32m/var/folders/44/jn2ldvhx7h135938lbghd0340000gn/T/ipykernel_6443/1227874584.py\u001b[0m in \u001b[0;36m<module>\u001b[0;34m\u001b[0m\n\u001b[1;32m      2\u001b[0m \u001b[0max_right\u001b[0m \u001b[0;34m=\u001b[0m \u001b[0max_left\u001b[0m\u001b[0;34m.\u001b[0m\u001b[0mtwinx\u001b[0m\u001b[0;34m(\u001b[0m\u001b[0;34m)\u001b[0m\u001b[0;34m\u001b[0m\u001b[0;34m\u001b[0m\u001b[0m\n\u001b[1;32m      3\u001b[0m \u001b[0mx\u001b[0m \u001b[0;34m=\u001b[0m \u001b[0mnp\u001b[0m\u001b[0;34m.\u001b[0m\u001b[0marange\u001b[0m\u001b[0;34m(\u001b[0m\u001b[0;36m0\u001b[0m\u001b[0;34m,\u001b[0m\u001b[0;36m90\u001b[0m\u001b[0;34m,\u001b[0m\u001b[0;36m7.5\u001b[0m\u001b[0;34m)\u001b[0m\u001b[0;34m\u001b[0m\u001b[0;34m\u001b[0m\u001b[0m\n\u001b[0;32m----> 4\u001b[0;31m \u001b[0max_right\u001b[0m\u001b[0;34m.\u001b[0m\u001b[0mplot\u001b[0m\u001b[0;34m(\u001b[0m\u001b[0mx\u001b[0m\u001b[0;34m,\u001b[0m\u001b[0mHR_nir_solar1\u001b[0m\u001b[0;34m,\u001b[0m\u001b[0mcolor\u001b[0m\u001b[0;34m=\u001b[0m\u001b[0;34m'black'\u001b[0m\u001b[0;34m,\u001b[0m\u001b[0mlabel\u001b[0m\u001b[0;34m=\u001b[0m\u001b[0;34m'NIR'\u001b[0m\u001b[0;34m)\u001b[0m\u001b[0;34m\u001b[0m\u001b[0;34m\u001b[0m\u001b[0m\n\u001b[0m\u001b[1;32m      5\u001b[0m \u001b[0max_left\u001b[0m\u001b[0;34m.\u001b[0m\u001b[0mplot\u001b[0m\u001b[0;34m(\u001b[0m\u001b[0mx\u001b[0m\u001b[0;34m,\u001b[0m\u001b[0mHR_red_solar1\u001b[0m\u001b[0;34m,\u001b[0m\u001b[0mcolor\u001b[0m\u001b[0;34m=\u001b[0m\u001b[0;34m'red'\u001b[0m\u001b[0;34m,\u001b[0m\u001b[0mlabel\u001b[0m\u001b[0;34m=\u001b[0m\u001b[0;34m'Red'\u001b[0m\u001b[0;34m)\u001b[0m\u001b[0;34m\u001b[0m\u001b[0;34m\u001b[0m\u001b[0m\n\u001b[1;32m      6\u001b[0m \u001b[0;34m\u001b[0m\u001b[0m\n",
      "\u001b[0;31mNameError\u001b[0m: name 'HR_nir_solar1' is not defined"
     ]
    },
    {
     "data": {
      "image/png": "[encoded data removed]",
      "text/plain": [
       "<Figure size 432x288 with 2 Axes>"
      ]
     },
     "metadata": {
      "needs_background": "light"
     },
     "output_type": "display_data"
    }
   ],
   "source": [
    "fig, ax_left = plt.subplots()\n",
    "ax_right = ax_left.twinx()\n",
    "x = np.arange(0,90,7.5)\n",
    "ax_right.plot(x,HR_nir_solar1,color='black',label='NIR')\n",
    "ax_left.plot(x,HR_red_solar1,color='red',label='Red')\n",
    "\n",
    "plt.xlabel(\"Solar Zenith Angle\")\n",
    "plt.ylabel(\"Bi-Hemispherical Reflectance\")\n",
    "#plt.title(\"NIR Band\")\n",
    "plt.legend()"
   ]
  },
  {
   "cell_type": "code",
   "execution_count": null,
   "id": "f8efac6a",
   "metadata": {},
   "outputs": [],
   "source": []
  },
  {
   "cell_type": "code",
   "execution_count": 21,
   "id": "155405d6",
   "metadata": {},
   "outputs": [],
   "source": [
    "#BHR, BHT, and Abs for the red band \n",
    "fig, ax = plt.subplots()\n",
    "x = np.arange(0,6,0.5)\n",
    "plt.plot(x, HR_red_soil, color='black', label='BH Reflectance (Rs=0.125)')\n",
    "plt.plot(x, HT_red_soil, color='red', label='BH Transmittance (Rs=0.125)')\n",
    "plt.plot(x, AB_red_soil, color='blue', label='Canopy Absorptance (Rs=0.125)')\n",
    "plt.plot(x, HR_red_black, 'o',color='black', label='BH Reflectance (Rs=0)')\n",
    "plt.plot(x, HT_red_black, 'o',color='red', label='BH Transmittance (Rs=0)')\n",
    "plt.plot(x, AB_red_black, 'o',color='blue', label='Canopy Absorptance (Rs=0)')\n",
    "plt.xlabel(\"Canopy Green Leaf Area Index\")\n",
    "#plt.ylabel(\"Bi-Hemispherical Reflectance\")\n",
    "plt.title(\"Red Band\")\n",
    "plt.legend()\n",
    "\n",
    "plt.savefig('Red Band All', dpi=1200)"
   ]
  },
  {
   "cell_type": "code",
   "execution_count": null,
   "id": "2989d391",
   "metadata": {},
   "outputs": [],
   "source": []
  },
  {
   "cell_type": "code",
   "execution_count": 77,
   "id": "598d60d1",
   "metadata": {},
   "outputs": [
    {
     "data": {
      "image/png": "[encoded data removed]",
      "text/plain": [
       "<Figure size 432x288 with 1 Axes>"
      ]
     },
     "metadata": {
      "needs_background": "light"
     },
     "output_type": "display_data"
    }
   ],
   "source": [
    "#BHR, BHT, and Abs for the red band \n",
    "fig, ax = plt.subplots()\n",
    "x = np.arange(0,6,0.5)\n",
    "plt.plot(x, HR_red_soil, color='black', label='BH Reflectance (Rs=0.125)')\n",
    "plt.plot(x, HT_red_soil, color='red', label='BH Transmittance (Rs=0.125)')\n",
    "plt.plot(x, AB_red_soil, color='blue', label='Canopy Absorptance (Rs=0.125)')\n",
    "plt.plot(x, HR_red_black, 'o',color='black', label='BH Reflectance (Rs=0)')\n",
    "plt.plot(x, HT_red_black, 'o',color='red', label='BH Transmittance (Rs=0)')\n",
    "plt.plot(x, AB_red_black, 'o',color='blue', label='Canopy Absorptance (Rs=0)')\n",
    "plt.xlabel(\"Canopy Green Leaf Area Index\")\n",
    "#plt.ylabel(\"Bi-Hemispherical Reflectance\")\n",
    "plt.title(\"Red Band\")\n",
    "plt.legend()\n",
    "\n",
    "plt.savefig('Red Band All', dpi=1200)"
   ]
  },
  {
   "cell_type": "code",
   "execution_count": 79,
   "id": "0afca567",
   "metadata": {},
   "outputs": [
    {
     "data": {
      "text/plain": [
       "<matplotlib.legend.Legend at 0x7fd4406672e0>"
      ]
     },
     "execution_count": 79,
     "metadata": {},
     "output_type": "execute_result"
    },
    {
     "data": {
      "image/png": "[encoded data removed]",
      "text/plain": [
       "<Figure size 432x288 with 1 Axes>"
      ]
     },
     "metadata": {
      "needs_background": "light"
     },
     "output_type": "display_data"
    }
   ],
   "source": [
    "#BHR for NIR band in black soil and typical soil \n",
    "from scipy.interpolate import BSpline, make_interp_spline\n",
    "fig, ax = plt.subplots()\n",
    "x = np.arange(0,6,0.5)\n",
    "\n",
    "x_new = np.linspace(0,6,100)\n",
    "a_BSpline = make_interp_spline(x, HR_red_soil)\n",
    "y_new = a_BSpline(x_new)\n",
    "\n",
    "x_new1 = np.linspace(0,6,100)\n",
    "a_BSpline1 = make_interp_spline(x, HR_red_black)\n",
    "y_new1 = a_BSpline1(x_new1)\n",
    "\n",
    "plt.plot(x_new1, y_new1, color='black', label='Black Soil')\n",
    "plt.plot(x_new, y_new, color='red', label='Typical Soil')\n",
    "plt.xlabel(\"Canopy Green Leaf Area Index\")\n",
    "plt.ylabel(\"Bi-Hemispherical Reflectance\")\n",
    "plt.title(\"Red Band\")\n",
    "plt.legend()\n",
    "plt.savefig('Red Reflectance New', dpi=1200)"
   ]
  },
  {
   "cell_type": "code",
   "execution_count": null,
   "id": "e1636f95",
   "metadata": {},
   "outputs": [],
   "source": []
  },
  {
   "cell_type": "code",
   "execution_count": 98,
   "id": "c141038c",
   "metadata": {},
   "outputs": [
    {
     "data": {
      "text/plain": [
       "<matplotlib.legend.Legend at 0x7fd431aedfa0>"
      ]
     },
     "execution_count": 98,
     "metadata": {},
     "output_type": "execute_result"
    },
    {
     "data": {
      "image/png": "[encoded data removed]",
      "text/plain": [
       "<Figure size 432x288 with 1 Axes>"
      ]
     },
     "metadata": {
      "needs_background": "light"
     },
     "output_type": "display_data"
    }
   ],
   "source": [
    "#BHR, BHT, and Abs for NIR band \n",
    "fig, ax = plt.subplots()\n",
    "x = np.arange(0,6,0.5)\n",
    "plt.plot(x, HR_nir_soil, color='black', label='BH Reflectance (Rs=0.2)')\n",
    "plt.plot(x, HT_nir_soil, color='red', label='BH Transmittance (Rs=0.2)')\n",
    "plt.plot(x, AB_nir_soil, color='blue', label='Canopy Absorptance (Rs=0.2)')\n",
    "plt.plot(x, HR_nir_black, 'o',color='black', label='BH Reflectance (Rs=0)')\n",
    "plt.plot(x, HT_nir_black, 'o',color='red', label='BH Transmittance (Rs=0)')\n",
    "plt.plot(x, AB_nir_black, 'o',color='blue', label='Canopy Absorptance (Rs=0)')\n",
    "plt.xlabel(\"Canopy Green Leaf Area Index\")\n",
    "#plt.ylabel(\"Bi-Hemispherical Reflectance\")\n",
    "plt.title(\"NIR Band\")\n",
    "plt.legend()\n",
    "\n",
    "#plt.savefig('NIR Band All', dpi=1200)"
   ]
  },
  {
   "cell_type": "code",
   "execution_count": 97,
   "id": "5117bf1c",
   "metadata": {},
   "outputs": [
    {
     "data": {
      "image/png": "[encoded data removed]",
      "text/plain": [
       "<Figure size 432x288 with 1 Axes>"
      ]
     },
     "metadata": {
      "needs_background": "light"
     },
     "output_type": "display_data"
    }
   ],
   "source": [
    "#BHR for NIR band in black and typical soil \n",
    "from scipy.interpolate import BSpline, make_interp_spline\n",
    "fig, ax = plt.subplots()\n",
    "x = np.arange(0,6,0.5)\n",
    "\n",
    "x_new = np.linspace(0,6,100)\n",
    "a_BSpline = make_interp_spline(x, HR_nir_soil1)\n",
    "y_new = a_BSpline(x_new)\n",
    "\n",
    "x_new1 = np.linspace(0,6,100)\n",
    "a_BSpline1 = make_interp_spline(x, HR_nir_black1)\n",
    "y_new1 = a_BSpline1(x_new1)\n",
    "\n",
    "plt.plot(x_new1, y_new1, color='black', label='Black Soil')\n",
    "plt.plot(x_new, y_new, color='red', label='Typical Soil')\n",
    "plt.xlabel(\"Canopy Green Leaf Area Index\")\n",
    "plt.ylabel(\"Bi-Hemispherical Reflectance\")\n",
    "plt.title(\"NIR Band\")\n",
    "plt.legend()\n",
    "plt.savefig('NIR Reflectance New', dpi=1200)"
   ]
  },
  {
   "cell_type": "code",
   "execution_count": 99,
   "id": "15a6ee9f",
   "metadata": {},
   "outputs": [
    {
     "data": {
      "image/png": "[encoded data removed]",
      "text/plain": [
       "<Figure size 432x288 with 1 Axes>"
      ]
     },
     "metadata": {
      "needs_background": "light"
     },
     "output_type": "display_data"
    }
   ],
   "source": [
    "#BHT for red and NIR as function of LAI \n",
    "fig, ax = plt.subplots()\n",
    "x = np.arange(0,6,0.5)\n",
    "\n",
    "x_new = np.linspace(0,6,100)\n",
    "a_BSpline = make_interp_spline(x, HT_nir_soil)\n",
    "y_new = a_BSpline(x_new)\n",
    "\n",
    "x_new1 = np.linspace(0,6,100)\n",
    "a_BSpline1 = make_interp_spline(x, HT_red_soil)\n",
    "y_new1 = a_BSpline1(x_new1)\n",
    "\n",
    "plt.plot(x_new, y_new, color='black', label='NIR')\n",
    "plt.plot(x_new1, y_new1, color='red', label='Red')\n",
    "plt.xlabel(\"Canopy Green Leaf Area Index\")\n",
    "plt.ylabel(\"Bi-Hemispherical Transmittance\")\n",
    "#plt.title(\"NIR Band\")\n",
    "plt.legend()\n",
    "plt.savefig('BHT Red and NIR', dpi=1200)"
   ]
  },
  {
   "cell_type": "code",
   "execution_count": null,
   "id": "7b4d6167",
   "metadata": {},
   "outputs": [],
   "source": []
  },
  {
   "cell_type": "code",
   "execution_count": 118,
   "id": "bd9a5c68",
   "metadata": {},
   "outputs": [
    {
     "data": {
      "text/plain": [
       "<matplotlib.legend.Legend at 0x7fd431a8bf40>"
      ]
     },
     "execution_count": 118,
     "metadata": {},
     "output_type": "execute_result"
    },
    {
     "data": {
      "image/png": "[encoded data removed]",
      "text/plain": [
       "<Figure size 432x288 with 2 Axes>"
      ]
     },
     "metadata": {
      "needs_background": "light"
     },
     "output_type": "display_data"
    }
   ],
   "source": [
    "fig, ax_left = plt.subplots()\n",
    "ax_right = ax_left.twinx()\n",
    "x = np.arange(0,90,7.5)\n",
    "ax_right.plot(x,HR_nir_solar1,color='black',label='NIR')\n",
    "ax_left.plot(x,HR_red_solar1,color='red',label='Red')\n",
    "\n",
    "plt.xlabel(\"Solar Zenith Angle\")\n",
    "plt.ylabel(\"Bi-Hemispherical Reflectance\")\n",
    "#plt.title(\"NIR Band\")\n",
    "plt.legend()"
   ]
  },
  {
   "cell_type": "code",
   "execution_count": null,
   "id": "e016768e",
   "metadata": {},
   "outputs": [],
   "source": []
  }
 ],
 "metadata": {
  "kernelspec": {
   "display_name": "Python 3 (ipykernel)",
   "language": "python",
   "name": "python3"
  },
  "language_info": {
   "codemirror_mode": {
    "name": "ipython",
    "version": 3
   },
   "file_extension": ".py",
   "mimetype": "text/x-python",
   "name": "python",
   "nbconvert_exporter": "python",
   "pygments_lexer": "ipython3",
   "version": "3.9.7"
  }
 },
 "nbformat": 4,
 "nbformat_minor": 5
}
